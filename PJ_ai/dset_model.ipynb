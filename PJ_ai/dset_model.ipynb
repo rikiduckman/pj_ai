{
 "cells": [
  {
   "cell_type": "code",
   "execution_count": 5,
   "metadata": {},
   "outputs": [
    {
     "name": "stdout",
     "output_type": "stream",
     "text": [
      "Accuracy: 93.93939393939394\n"
     ]
    }
   ],
   "source": [
    "import numpy as np\n",
    "import pandas as pd\n",
    "from sklearn.model_selection import train_test_split\n",
    "from sklearn.ensemble import RandomForestClassifier\n",
    "from sklearn.metrics import accuracy_score\n",
    "\n",
    "#โหลดข้อมูล: เริ่มต้นด้วยการโหลดข้อมูลจากไฟล์ CSV ของ Dataset  ที่โหลดมาจากเว็บ Kaggle(https://www.kaggle.com/datasets/sujithmandala/obesity-classification-dataset/data) โดยใช้ Pandas เพื่ออ่านข้อมูลและเก็บไว้ใน DataFrame.\n",
    "data = pd.read_csv('Obesity Classification.csv')\n",
    "\n",
    "#ลบคอลัมน์ที่ไม่จำเป็น: ลบคอลัมน์ที่ไม่จำเป็นออกจาก DataFrame เช่น 'ID', 'Gender', 'Age' ,'BMI',เพื่อให้โมเดลไม่สนใจคุณสมบัติที่ไม่เกี่ยวข้องในการทำนาย.\n",
    "data = data.drop('ID', axis=1)\n",
    "data = data.drop('Gender', axis=1)\n",
    "data = data.drop('Age', axis=1)\n",
    "data = data.drop('BMI', axis=1)\n",
    "\n",
    "#คำนวณ BMI: คำนวณค่า BMI จากคอลัมน์ 'Height' และ 'Weight' และเพิ่มคอลัมน์ 'BMI' เข้าไปใน DataFrame เพื่อใช้ในการฝึกโมเดล.\n",
    "data['BMI'] = data['Weight'] / ((data['Height'] / 100) ** 2)\n",
    "\n",
    "#เลือก features และ target variable: กำหนด features และ target variable โดยกำหนด X เป็น features (ทุกคอลัมน์ยกเว้น 'Label') และ y เป็น target variable ('Label').\n",
    "X = data.drop(['Label'], axis=1)\n",
    "y = data['Label']\n",
    "\n",
    "#แบ่งข้อมูล: แบ่งข้อมูลเป็นชุดฝึกและชุดทดสอบโดยใช้ฟังก์ชัน train_test_split โดยกำหนด test_size เป็น 30% ของข้อมูลทั้งหมด.\n",
    "X_train, X_test, y_train, y_test = train_test_split(X, y, test_size=0.3, random_state=42)\n",
    "\n",
    "#ฝึกโมเดล: ฝึกโมเดล RandomForestClassifier ด้วยข้อมูล X_train และ y_train โดยใช้ฟังก์ชัน fit.\n",
    "RF_clf = RandomForestClassifier()\n",
    "RF_clf.fit(X_train, y_train)\n",
    "\n",
    "#ทำนาย: ทำนายข้อมูลชุดทดสอบ (X_test) โดยใช้โมเดลที่ฝึกไว้ ด้วยฟังก์ชัน predict.\n",
    "y_pred = RF_clf.predict(X_test)\n",
    "\n",
    "#คำนวณความแม่นยำ: คำนวณความแม่นยำของการทำนายโดยเปรียบเทียบค่าที่ทำนาย (y_pred) กับค่าจริง (y_test) ด้วยฟังก์ชัน accuracy_score.\n",
    "accuracy = accuracy_score(y_test, y_pred)\n",
    "print(\"Accuracy:\", accuracy * 100)\n"
   ]
  },
  {
   "cell_type": "code",
   "execution_count": null,
   "metadata": {},
   "outputs": [],
   "source": []
  },
  {
   "cell_type": "code",
   "execution_count": null,
   "metadata": {},
   "outputs": [],
   "source": []
  }
 ],
 "metadata": {
  "kernelspec": {
   "display_name": "Python 3",
   "language": "python",
   "name": "python3"
  },
  "language_info": {
   "codemirror_mode": {
    "name": "ipython",
    "version": 3
   },
   "file_extension": ".py",
   "mimetype": "text/x-python",
   "name": "python",
   "nbconvert_exporter": "python",
   "pygments_lexer": "ipython3",
   "version": "3.10.0"
  }
 },
 "nbformat": 4,
 "nbformat_minor": 2
}
